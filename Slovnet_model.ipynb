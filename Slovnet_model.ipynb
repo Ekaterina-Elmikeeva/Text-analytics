{
 "cells": [
  {
   "cell_type": "markdown",
   "id": "b1847549",
   "metadata": {},
   "source": [
    "### Использование предобученной модели slovnet для извлечения сущностей"
   ]
  },
  {
   "cell_type": "code",
   "execution_count": null,
   "id": "b7438314",
   "metadata": {},
   "outputs": [],
   "source": [
    "!pip install slovnet\n",
    "!pip install ipymarkup\n",
    "\n",
    "from navec import Navec\n",
    "from slovnet import NER\n",
    "from ipymarkup import show_span_ascii_markup as show_markup"
   ]
  },
  {
   "cell_type": "code",
   "execution_count": null,
   "id": "4c0a6cbe",
   "metadata": {},
   "outputs": [],
   "source": [
    "text = 'Спрос на зимнюю загородную аренду в Подмосковье снизился на 20 процентов к прошлым декабрю-январю. Об этом говорится в материалах компании «Инком-Недвижимость» (есть в редакции «Ленты.ру»). Снижение спроса к новогодним праздникам сезона 2016-2017 года составило 28 процентов. Такое отсутствие интереса у съемщиков приводит к тому, что многие хозяева коттеджей решили не выставлять свои объекты в аренду. Поэтому предложение съемного загородного жилья сократилось к прошлому году более чем на четверть, отмечают в «Инком». С рынка ушли в первую очередь дорогие коттеджи, со ставкой аренды от 400 тысяч рублей в месяц: владельцы домов не видят спроса и не хотят связываться с новогодним наймом из-за возможной порчи имущества. Среднестатистическая сумма найма, запрашиваемая собственниками на новогодние праздники, снизилась по сравнению с прошлогодней на шесть процентов, подсчитали в компании. В целом, на начало декабря в экспозиции на рынке загородного найма Подмосковья находится 4 320 объектов, 87 процентов из них можно снять на зимние каникулы. «Многие считают траты на подобные развлечения излишеством.'"
   ]
  },
  {
   "cell_type": "markdown",
   "id": "529ee59a",
   "metadata": {},
   "source": [
    "#### Необходимо скачать предобученную модель для дальнейшего использования в /content\n",
    "* Navec - это библиотека предварительно обученных словесных embedding-ов для русского языка. \n",
    "Скачать необходимую модель можно по [ссылке](https://storage.yandexcloud.net/natasha-navec/packs/navec_news_v1_1B_250K_300d_100q.tar)\n",
    "\n",
    "* Slovnet - библиотека для deep learning для русского языка. Скачать модель \"slovnet_ner_news_v1.tar\" можно по [ссылке](https://github.com/natasha/slovnet#downloads). \n",
    "\n",
    "После скачивания файлов необходимо загрузить их в репозиторий /content goole-collab.\n"
   ]
  },
  {
   "cell_type": "code",
   "execution_count": null,
   "id": "3696ef95",
   "metadata": {},
   "outputs": [],
   "source": [
    "#тут вы должны увидеть загруженные вами файлы\n",
    "%cd /content\n",
    "!ls"
   ]
  },
  {
   "cell_type": "markdown",
   "id": "05d54545",
   "metadata": {},
   "source": [
    "#### Использование предобученной модели slovnet для тестового текста"
   ]
  },
  {
   "cell_type": "code",
   "execution_count": null,
   "id": "deb82de8",
   "metadata": {},
   "outputs": [],
   "source": [
    "navec = Navec.load('navec_news_v1_1B_250K_300d_100q.tar')\n",
    "ner = NER.load('slovnet_ner_news_v1.tar')\n",
    "ner.navec(navec)\n",
    "markup = ner(text)\n",
    "show_markup(markup.text, markup.spans)"
   ]
  },
  {
   "cell_type": "markdown",
   "id": "c49e6659",
   "metadata": {},
   "source": [
    "#### Применение модели на корпусе новостей\n",
    "\n",
    "* [Corus](https://github.com/natasha/corus#load_lenta) - библиотека, имеющая ссылки на общедоступные русские корпуса + код для загрузки и парсинга \n",
    "\n",
    "* [Ссылка](https://github.com/yutkin/Lenta.Ru-News-Dataset/releases/download/v1.0/lenta-ru-news.csv.gz) на скачивание корпуса новостей\n",
    "\n",
    "* Поместить архив в /content\n"
   ]
  },
  {
   "cell_type": "code",
   "execution_count": null,
   "id": "43438132",
   "metadata": {},
   "outputs": [],
   "source": [
    "!pip install corus"
   ]
  },
  {
   "cell_type": "markdown",
   "id": "1cb59456",
   "metadata": {},
   "source": [
    "#### Применение модели на корпусе новостей\n",
    "\n",
    "* [Corus](https://github.com/natasha/corus#load_lenta) - библиотека, имеющая ссылки на общедоступные русские корпуса + код для загрузки и парсинга \n",
    "\n",
    "* [Ссылка](https://github.com/yutkin/Lenta.Ru-News-Dataset/releases/download/v1.0/lenta-ru-news.csv.gz) на скачивание корпуса новостей\n",
    "\n",
    "* Поместить архив в /content\n"
   ]
  },
  {
   "cell_type": "code",
   "execution_count": null,
   "id": "0d58fd97",
   "metadata": {},
   "outputs": [],
   "source": [
    "from corus import load_lenta\n",
    "\n",
    "path = 'lenta-ru-news.csv.gz'\n",
    "records = load_lenta(path)\n",
    "\n",
    "for record in records:\n",
    "    markup = ner(record.text)\n",
    "    show_markup(markup.text, markup.spans)"
   ]
  },
  {
   "cell_type": "markdown",
   "id": "84a84fff",
   "metadata": {},
   "source": [
    "#### Тестирование модели на новых новостях\n",
    "\n",
    "* [Новости](https://lenta.ru/) - ссылка на новостную ленту. Выбираем любую новость, копируем текст, подаем на вход модели.\n"
   ]
  },
  {
   "cell_type": "code",
   "execution_count": null,
   "id": "8689d20c",
   "metadata": {},
   "outputs": [],
   "source": [
    "text = 'Текст новости'"
   ]
  },
  {
   "cell_type": "code",
   "execution_count": null,
   "id": "db321275",
   "metadata": {},
   "outputs": [],
   "source": [
    "markup = ner(text)\n",
    "show_markup(markup.text, markup.spans)"
   ]
  }
 ],
 "metadata": {
  "kernelspec": {
   "display_name": "Python 3 (ipykernel)",
   "language": "python",
   "name": "python3"
  },
  "language_info": {
   "codemirror_mode": {
    "name": "ipython",
    "version": 3
   },
   "file_extension": ".py",
   "mimetype": "text/x-python",
   "name": "python",
   "nbconvert_exporter": "python",
   "pygments_lexer": "ipython3",
   "version": "3.7.4"
  }
 },
 "nbformat": 4,
 "nbformat_minor": 5
}
