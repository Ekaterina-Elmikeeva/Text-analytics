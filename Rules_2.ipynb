{
 "cells": [
  {
   "cell_type": "markdown",
   "id": "85f78a27",
   "metadata": {},
   "source": [
    "### Извлечение сущностей с использованием Natasha и Yargy-parser\n",
    "\n",
    "#### Готовые правила\n",
    "Сейчас в Natasha есть правила для извлечения имён, адресов, дат, сумм денег, названий организаций и географических объектов."
   ]
  },
  {
   "cell_type": "markdown",
   "id": "c57aa9ae",
   "metadata": {},
   "source": [
    "#### Имена"
   ]
  },
  {
   "cell_type": "code",
   "execution_count": null,
   "id": "4ce8ce7e",
   "metadata": {},
   "outputs": [],
   "source": [
    "!pip install natasha==0.10.0 yargy==0.11.0"
   ]
  },
  {
   "cell_type": "code",
   "execution_count": null,
   "id": "7864799e",
   "metadata": {},
   "outputs": [],
   "source": [
    "from natasha import NamesExtractor\n",
    "from natasha.markup import show_markup, show_json\n",
    "\n",
    "extractor = NamesExtractor()\n",
    "\n",
    "text = '''\n",
    "Благодарственное письмо   \n",
    "Хочу поблагодарить учителей моего, теперь уже бывшего, одиннадцатиклассника:  Бушуева Вячеслава Владимировича и Бушуеву Веру Константиновну. \n",
    "Они вовлекали сына в интересные внеурочные занятия, связанные с театром и походами.\n",
    "\n",
    "Благодарю прекрасного учителя 1\"А\" класса - Волкову Наталью Николаевну, нашего наставника, тьютора - Ларису Ивановну!\n",
    "За огромнейший труд, чуткое отношение к детям, взаимопонимание! Огромное спасибо!\n",
    "'''\n",
    "\n",
    "matches = extractor(text)\n",
    "spans = [_.span for _ in matches]\n",
    "print('Spans: ',spans)\n",
    "facts = [_.fact.as_json for _ in matches]\n",
    "print('Facts: ',facts)\n",
    "show_markup(text, spans)\n",
    "show_json(facts)\n"
   ]
  },
  {
   "cell_type": "markdown",
   "id": "bc22c1d4",
   "metadata": {},
   "source": [
    "#### Адреса"
   ]
  },
  {
   "cell_type": "code",
   "execution_count": null,
   "id": "f689923f",
   "metadata": {},
   "outputs": [],
   "source": [
    "from natasha import AddressExtractor\n",
    "from natasha.markup import show_markup, show_json\n",
    "\n",
    "extractor = AddressExtractor()\n",
    "\n",
    "text = '''\n",
    "Предлагаю вернуть прежние границы природного парка №71 на Инженерной улице 2.\n",
    "\n",
    "По адресу Алтуфьевское шоссе д.51 (основной вид разрешенного использования: производственная деятельность, склады) размещен МПЗ. Жители требуют незамедлительной остановки МПЗ и его вывода из района\n",
    "\n",
    "Контакты О нас телефон 7 881 574-10-02 Адрес Республика Карелия,г.Петрозаводск,ул.Маршала Мерецкова, д.8 Б,офис 4\n",
    "'''\n",
    "matches = extractor(text)\n",
    "spans = [_.span for _ in matches]\n",
    "facts = [_.fact.as_json for _ in matches]\n",
    "show_markup(text, spans)\n",
    "show_json(facts)"
   ]
  },
  {
   "cell_type": "markdown",
   "id": "a5d577c9",
   "metadata": {},
   "source": [
    "#### Правила для дат и денег"
   ]
  },
  {
   "cell_type": "code",
   "execution_count": null,
   "id": "5ef25982",
   "metadata": {},
   "outputs": [],
   "source": [
    "from natasha import (\n",
    "    NamesExtractor,\n",
    "    AddressExtractor,\n",
    "    DatesExtractor,\n",
    "    MoneyExtractor\n",
    ")\n",
    "from natasha.markup import show_markup, show_json\n",
    "\n",
    "extractors = [\n",
    "    NamesExtractor(),\n",
    "    AddressExtractor(),\n",
    "    DatesExtractor(),\n",
    "    MoneyExtractor()\n",
    "]\n",
    "\n",
    "\n",
    "text = '''\n",
    "Взыскать к индивидуального предпринимателя Иванова Костантипа Петровича дата рождения 10 января 1970 года, проживающего по адресу город Санкт-Петербург, ул. Крузенштерна, дом 5/1А 8 000 (восемь тысяч) рублей 00 копеей госпошлины в пользу бюджета РФ \n",
    "'''\n",
    "spans = []\n",
    "facts = []\n",
    "for extractor in extractors:\n",
    "    matches = extractor(text)\n",
    "    spans.extend(_.span for _ in matches)\n",
    "    facts.extend(_.fact.as_json for _ in matches)\n",
    "show_markup(text, spans)\n",
    "show_json(facts)\n"
   ]
  },
  {
   "cell_type": "markdown",
   "id": "a329e827",
   "metadata": {},
   "source": [
    "#### Создание своих правил"
   ]
  },
  {
   "cell_type": "markdown",
   "id": "af98393a",
   "metadata": {},
   "source": [
    "#### Правило для извлечения дат в ISO-формате («2018-02-23», «2015-12-31»)"
   ]
  },
  {
   "cell_type": "code",
   "execution_count": 1,
   "id": "7df8de00",
   "metadata": {},
   "outputs": [
    {
     "name": "stdout",
     "output_type": "stream",
     "text": [
      "[1, 11) ['2018', '-', '02', '-', '23']\n",
      "[13, 23) ['2015', '-', '12', '-', '31']\n",
      "[31, 40) ['364', '-', '12', '-', '01']\n"
     ]
    }
   ],
   "source": [
    "from yargy import rule, and_, Parser\n",
    "from yargy.predicates import gte, lte\n",
    "\n",
    "\n",
    "DAY = and_(\n",
    "    gte(1),\n",
    "    lte(31)\n",
    ")\n",
    "MONTH = and_(\n",
    "    gte(1),\n",
    "    lte(12)\n",
    ")\n",
    "YEAR = and_(\n",
    "    gte(1),\n",
    "    lte(2022)\n",
    ")\n",
    "DATE = rule(\n",
    "    YEAR,\n",
    "    '-',\n",
    "    MONTH,\n",
    "    '-',\n",
    "    DAY\n",
    ")\n",
    "\n",
    "parser = Parser(DATE)\n",
    "text = '''\n",
    "2018-02-23,\n",
    "2015-12-31;\n",
    "8 916 364-12-01'''\n",
    "for match in parser.findall(text):\n",
    "    print(match.span, [_.value for _ in match.tokens])"
   ]
  },
  {
   "cell_type": "markdown",
   "id": "89a02ee4",
   "metadata": {},
   "source": [
    "#### Корректировка правила"
   ]
  },
  {
   "cell_type": "code",
   "execution_count": 6,
   "id": "e7857679",
   "metadata": {},
   "outputs": [
    {
     "name": "stdout",
     "output_type": "stream",
     "text": [
      "[1, 11) ['2018', '-', '02', '-', '23']\n",
      "[13, 23) ['2015', '-', '12', '-', '31']\n"
     ]
    }
   ],
   "source": [
    "from yargy import rule, and_, Parser\n",
    "from yargy.predicates import gte, lte\n",
    "\n",
    "\n",
    "DAY = and_(\n",
    "    gte(1),\n",
    "    lte(31)\n",
    ")\n",
    "MONTH = and_(\n",
    "    gte(1),\n",
    "    lte(12)\n",
    ")\n",
    "YEAR = and_(\n",
    "    gte(2000),\n",
    "    lte(2022)\n",
    ")\n",
    "DATE = rule(\n",
    "    YEAR,\n",
    "    '-',\n",
    "    MONTH,\n",
    "    '-',\n",
    "    DAY\n",
    ")\n",
    "\n",
    "parser = Parser(DATE)\n",
    "text = '''\n",
    "2018-02-23,\n",
    "2015-12-31;\n",
    "8 916 364-12-01'''\n",
    "for match in parser.findall(text):\n",
    "    print(match.span, [_.value for _ in match.tokens])"
   ]
  },
  {
   "cell_type": "markdown",
   "id": "8cbc786c",
   "metadata": {},
   "source": [
    "#### Правила для дат вида «8 января 2014», «15 июня 2001 г.»"
   ]
  },
  {
   "cell_type": "code",
   "execution_count": 11,
   "id": "dfe9a051",
   "metadata": {},
   "outputs": [
    {
     "name": "stdout",
     "output_type": "stream",
     "text": [
      "[1, 19) ['8', 'января', '2014', 'года']\n",
      "[21, 36) ['15', 'июня', '2001', 'г', '.']\n",
      "[38, 53) ['31', 'февраля', '2018']\n"
     ]
    }
   ],
   "source": [
    "from yargy import or_\n",
    "from yargy.predicates import caseless, normalized, dictionary\n",
    "\n",
    "\n",
    "MONTHS = {\n",
    "    'январь',\n",
    "    'февраль',\n",
    "    'март',\n",
    "    'апрель',\n",
    "    'мая',\n",
    "    'июнь',\n",
    "    'июль',\n",
    "    'август',\n",
    "    'сентябрь',\n",
    "    'октябрь',\n",
    "    'ноябрь',\n",
    "    'декабрь'\n",
    "}\n",
    "MONTH_NAME = dictionary(MONTHS)\n",
    "YEAR_WORDS = or_(\n",
    "    rule(caseless('г'), '.'),\n",
    "    rule(normalized('год'))\n",
    ")\n",
    "DATE = or_(\n",
    "    rule(\n",
    "        YEAR,\n",
    "        '-',\n",
    "        MONTH,\n",
    "        '-',\n",
    "        DAY\n",
    "    ),\n",
    "    rule(\n",
    "        DAY,\n",
    "        MONTH_NAME,\n",
    "        YEAR,\n",
    "        YEAR_WORDS.optional()\n",
    "    )\n",
    ")\n",
    "\n",
    "parser = Parser(DATE)\n",
    "text = '''\n",
    "8 января 2014 года, 15 июня 2001 г.,\n",
    "31 февраля 2018'''\n",
    "for match in parser.findall(text):\n",
    "    print(match.span, [_.value for _ in match.tokens])"
   ]
  },
  {
   "cell_type": "markdown",
   "id": "c78dd936",
   "metadata": {},
   "source": [
    "#### Интерпретация"
   ]
  },
  {
   "cell_type": "code",
   "execution_count": null,
   "id": "231e4b93",
   "metadata": {},
   "outputs": [],
   "source": [
    "from yargy.interpretation import fact\n",
    "\n",
    "\n",
    "Date = fact(\n",
    "    'Date',\n",
    "    ['year', 'month', 'day', 'year_words']\n",
    ")\n",
    "\n",
    "DAY = and_(\n",
    "    gte(1),\n",
    "    lte(31)\n",
    ").interpretation(\n",
    "    Date.day\n",
    ")\n",
    "MONTH = and_(\n",
    "    gte(1),\n",
    "    lte(12)\n",
    ").interpretation(\n",
    "    Date.month\n",
    ")\n",
    "YEAR = and_(\n",
    "    gte(1),\n",
    "    lte(2018)\n",
    ").interpretation(\n",
    "    Date.year\n",
    ")\n",
    "MONTH_NAME = dictionary(\n",
    "    MONTHS\n",
    ").interpretation(\n",
    "    Date.month\n",
    ")\n",
    "YEAR_WORDS = or_(\n",
    "    rule(caseless('г'), '.'),\n",
    "    rule(normalized('год'))\n",
    ").interpretation(\n",
    "    Date.year_words\n",
    ")\n",
    "DATE = or_(\n",
    "    rule(YEAR, '-', MONTH, '-', DAY),\n",
    "    rule(\n",
    "        DAY,\n",
    "        MONTH_NAME,\n",
    "        YEAR,\n",
    "        YEAR_WORDS\n",
    "    )\n",
    ").interpretation(Date)\n",
    "\n",
    "parser = Parser(DATE)\n",
    "text = '''5 февраля 2011 года'''\n",
    "for match in parser.findall(text):\n",
    "    print(match.fact)\n"
   ]
  },
  {
   "cell_type": "code",
   "execution_count": null,
   "id": "b3c92e1b",
   "metadata": {},
   "outputs": [],
   "source": [
    "match = parser.match('2018-12-01')\n",
    "match.tree.as_dot"
   ]
  },
  {
   "cell_type": "markdown",
   "id": "c3365f11",
   "metadata": {},
   "source": [
    "### Извлечение данных из резюме сосискателей"
   ]
  },
  {
   "cell_type": "markdown",
   "id": "200e44e3",
   "metadata": {},
   "source": [
    "#### Использование Yargy-парсера для извлечения пола, возраста, даты рождения, места проживания, гражданства и разрешения на работу"
   ]
  },
  {
   "cell_type": "code",
   "execution_count": null,
   "id": "c9ea166e",
   "metadata": {},
   "outputs": [],
   "source": [
    "#клонируем репозиторий гитхаб\n",
    "!git clone -l -s https://github.com/Ekaterina-Elmikeeva/Text-analytics.git\n",
    "%cd Text-analytics/resources/resume_texts\n",
    "!ls"
   ]
  },
  {
   "cell_type": "markdown",
   "id": "c0569e4b",
   "metadata": {},
   "source": [
    "### Данные"
   ]
  },
  {
   "cell_type": "code",
   "execution_count": null,
   "id": "10cdcde3",
   "metadata": {},
   "outputs": [],
   "source": [
    "#читаем файлы с резюме соискателей\n",
    "import os\n",
    "ls = [i for i in os.listdir() if i.endswith('.txt')]\n",
    "ls.sort()\n",
    "\n",
    "texts = []\n",
    "for path in ls:\n",
    "    with open(path) as file:\n",
    "        text = file.read()\n",
    "        texts.append(text)\n",
    "        \n",
    "intros = [_[:700] for _ in sorted(texts)]\n",
    "\n",
    "intros"
   ]
  },
  {
   "cell_type": "code",
   "execution_count": null,
   "id": "463c6cfc",
   "metadata": {},
   "outputs": [],
   "source": [
    "# 3 примера резюме\n",
    "from random import seed, sample\n",
    "\n",
    "seed(41)\n",
    "for text in sample(intros, 3):\n",
    "    print(text)\n",
    "    print('---' * 10)"
   ]
  },
  {
   "cell_type": "markdown",
   "id": "f3b5bb21",
   "metadata": {},
   "source": [
    "### Установка библиотек и определение методов"
   ]
  },
  {
   "cell_type": "code",
   "execution_count": null,
   "id": "4afdbbb0",
   "metadata": {},
   "outputs": [],
   "source": [
    "!pip install ipymarkup"
   ]
  },
  {
   "cell_type": "code",
   "execution_count": null,
   "id": "98f44665",
   "metadata": {},
   "outputs": [],
   "source": [
    "# импортируем необходимые билиотеки\n",
    "import json\n",
    "\n",
    "from ipymarkup import show_span_ascii_markup as show_markup\n",
    "\n",
    "from yargy import (\n",
    "    Parser,\n",
    "    rule, or_, and_, not_\n",
    ")\n",
    "from yargy.predicates import (\n",
    "    eq, in_,\n",
    "    type, normalized,\n",
    "    dictionary,\n",
    "    gte, lte\n",
    ")\n",
    "from yargy.pipelines import (\n",
    "    pipeline,\n",
    "    morph_pipeline\n",
    ")\n",
    "from yargy.interpretation import (\n",
    "    fact,\n",
    "    attribute\n",
    ")\n",
    "from yargy.tokenizer import MorphTokenizer, EOL\n",
    "\n",
    "\n",
    "# определяем структуру данных, которая нам нужна\n",
    "Intro = fact(\n",
    "    'Intro',\n",
    "    ['gender', 'age', 'birth', 'location'\n",
    "    ,\n",
    "     'citizenship', 'permission'\n",
    "    ]\n",
    ")\n",
    "\n",
    "INT = type('INT')\n",
    "COMMA = eq(',')\n",
    "COLON = eq(':')\n",
    "\n",
    "\n",
    "def show_json(data):\n",
    "    print(json.dumps(data, indent=2, ensure_ascii=False))\n",
    "\n",
    "\n",
    "def show_matches(rule, *lines):\n",
    "    parser = Parser(rule)\n",
    "    for line in lines:\n",
    "        matches = parser.findall(line)\n",
    "        spans = [_.span for _ in matches]\n",
    "        show_markup(line, spans)"
   ]
  },
  {
   "cell_type": "markdown",
   "id": "2766bfff",
   "metadata": {},
   "source": [
    "### Пол"
   ]
  },
  {
   "cell_type": "code",
   "execution_count": null,
   "id": "cd1d24d2",
   "metadata": {},
   "outputs": [],
   "source": [
    "GENDERS = {\n",
    "    'Женщина': 'female',\n",
    "    'Мужчина': 'male'\n",
    "}\n",
    "\n",
    "GENDER = in_(GENDERS).interpretation(\n",
    "    Intro.gender.custom(GENDERS.get)\n",
    ")\n",
    "\n",
    "\n",
    "show_matches(\n",
    "    GENDER,\n",
    "    'мужчина, Мужчина, мужчину',\n",
    "    'Женщина'\n",
    ")"
   ]
  },
  {
   "cell_type": "markdown",
   "id": "23ed2293",
   "metadata": {},
   "source": [
    "### Возраст"
   ]
  },
  {
   "cell_type": "code",
   "execution_count": null,
   "id": "8243f692",
   "metadata": {},
   "outputs": [],
   "source": [
    "AGE = rule(\n",
    "    INT,\n",
    "    normalized('год')\n",
    ")\n",
    "\n",
    "\n",
    "show_matches(\n",
    "    AGE,\n",
    "    '21 год, 25 лет'\n",
    ")"
   ]
  },
  {
   "cell_type": "markdown",
   "id": "10c713b3",
   "metadata": {},
   "source": [
    "### Дата рождения"
   ]
  },
  {
   "cell_type": "code",
   "execution_count": null,
   "id": "7063fe9d",
   "metadata": {},
   "outputs": [],
   "source": [
    "Date = fact(\n",
    "    'Date',\n",
    "    ['year', 'month', 'day']\n",
    ")\n",
    "\n",
    "\n",
    "AGE = rule(\n",
    "    INT.interpretation(\n",
    "        Intro.age.custom(int)\n",
    "    ),\n",
    "    normalized('год')\n",
    ")\n",
    "\n",
    "MONTHS = {\n",
    "    'январь': 1,\n",
    "    'февраль': 2,\n",
    "    'март': 3,\n",
    "    'апрель': 4,\n",
    "    'май': 5,\n",
    "    'июнь': 6,\n",
    "    'июль': 7,\n",
    "    'август': 8,\n",
    "    'сентябрь': 9,\n",
    "    'октябрь': 10,\n",
    "    'ноябрь': 11,\n",
    "    'декабрь': 12\n",
    "}\n",
    "\n",
    "MONTH_NAME = dictionary(\n",
    "    MONTHS\n",
    ").interpretation(\n",
    "    Date.month.normalized().custom(MONTHS.get)\n",
    ")\n",
    "\n",
    "DAY = and_(\n",
    "    gte(1),\n",
    "    lte(31)\n",
    ").interpretation(\n",
    "    Date.day.custom(int)\n",
    ")\n",
    "\n",
    "YEAR = and_(\n",
    "    gte(1900),\n",
    "    lte(2100)\n",
    ").interpretation(\n",
    "    Date.year.custom(int)\n",
    ")\n",
    "\n",
    "DATE = rule(\n",
    "    DAY,\n",
    "    MONTH_NAME,\n",
    "    YEAR\n",
    ").interpretation(\n",
    "    Date\n",
    ")\n",
    "\n",
    "BIRTH = rule(\n",
    "    normalized('родиться'),\n",
    "    DATE.interpretation(\n",
    "        Intro.birth\n",
    "    )\n",
    ")\n",
    "\n",
    "\n",
    "show_matches(\n",
    "    BIRTH,\n",
    "    'родился 21 февраля 1990',\n",
    "    'родиться 32 сентябрь 2000',\n",
    "    'родилась 01 июля 1917',\n",
    ")"
   ]
  },
  {
   "cell_type": "markdown",
   "id": "d275634e",
   "metadata": {},
   "source": [
    "### Соц-дем правило"
   ]
  },
  {
   "cell_type": "code",
   "execution_count": null,
   "id": "27d29d3c",
   "metadata": {},
   "outputs": [],
   "source": [
    "SOCDEM = rule(\n",
    "    GENDER, COMMA,\n",
    "    AGE, COMMA,\n",
    "    BIRTH\n",
    ")\n",
    "\n",
    "\n",
    "parser = Parser(SOCDEM)\n",
    "seed(10)\n",
    "for text in sample(intros, 10):\n",
    "    for match in parser.findall(text):\n",
    "        start, stop = match.span\n",
    "        print(text[start:stop])"
   ]
  },
  {
   "cell_type": "markdown",
   "id": "8477accd",
   "metadata": {},
   "source": [
    "### Место проживания"
   ]
  },
  {
   "cell_type": "code",
   "execution_count": null,
   "id": "b9723618",
   "metadata": {},
   "outputs": [],
   "source": [
    "def load_lines(path):\n",
    "    with open(path) as file:\n",
    "        for line in file:\n",
    "            yield line.rstrip('\\n')"
   ]
  },
  {
   "cell_type": "code",
   "execution_count": null,
   "id": "c6166034",
   "metadata": {},
   "outputs": [],
   "source": [
    "#исползуем 2 готовых справочника - со станциями метро и районами\n",
    "METRO_STATIONS = set(load_lines('/content/Text-analytics/resources/resume_dicts/metro.txt'))\n",
    "AREAS = set(load_lines('/content/Text-analytics/resources/resume_dicts/areas.txt'))\n",
    "seed(10)\n",
    "sample(sorted(METRO_STATIONS), 10), sample(sorted(AREAS), 10)"
   ]
  },
  {
   "cell_type": "code",
   "execution_count": null,
   "id": "3a50a9c9",
   "metadata": {},
   "outputs": [],
   "source": [
    "Location = fact(\n",
    "    'Location',\n",
    "    ['area', 'metro']\n",
    ")\n",
    "\n",
    "\n",
    "METRO = rule(\n",
    "    'м', '.',\n",
    "    pipeline(METRO_STATIONS).interpretation(\n",
    "        Location.metro\n",
    "    )\n",
    ")\n",
    "\n",
    "AREA = pipeline(AREAS).interpretation(\n",
    "    Location.area\n",
    ")\n",
    "\n",
    "LOCATION = rule(\n",
    "    AREA,\n",
    "    rule(\n",
    "        COMMA,\n",
    "        METRO\n",
    "    ).optional()\n",
    ").interpretation(\n",
    "    Location\n",
    ")\n",
    "\n",
    "\n",
    "show_matches(\n",
    "    LOCATION,\n",
    "    'место проживания: Москва, м. Парк Победы',\n",
    "    'Киев, м.Киевская',\n",
    "    'Россия',\n",
    "    'в Москве',\n",
    "    'м. парк победы',\n",
    "    'на м. Кропоткинской',\n",
    ")"
   ]
  },
  {
   "cell_type": "code",
   "execution_count": null,
   "id": "051e4781",
   "metadata": {},
   "outputs": [],
   "source": [
    "TITLE = rule(\n",
    "    normalized('проживает'), COLON\n",
    ")\n",
    "\n",
    "LIVES_AT = rule(\n",
    "    TITLE,\n",
    "    LOCATION\n",
    ")\n",
    "\n",
    "\n",
    "parser = Parser(LIVES_AT)\n",
    "seed(10)\n",
    "for text in sample(intros, 10):\n",
    "    for match in parser.findall(text):\n",
    "        start, stop = match.span\n",
    "        print(text[start:stop])"
   ]
  },
  {
   "cell_type": "markdown",
   "id": "39bb7b53",
   "metadata": {},
   "source": [
    "### Гражданство"
   ]
  },
  {
   "cell_type": "code",
   "execution_count": null,
   "id": "cab74339",
   "metadata": {},
   "outputs": [],
   "source": [
    "TITLE = rule(\n",
    "    'Гражданство', COLON\n",
    ")\n",
    "\n",
    "ITEM = AREA.interpretation(\n",
    "    Intro.citizenship\n",
    ")\n",
    "\n",
    "LOCATIONS = rule(\n",
    "    ITEM,\n",
    "    rule(\n",
    "        COMMA,\n",
    "        ITEM\n",
    "    ).optional()\n",
    ")\n",
    "\n",
    "CITIZENSHIP = rule(\n",
    "    TITLE,\n",
    "    LOCATIONS\n",
    ")\n",
    "\n",
    "\n",
    "show_matches(\n",
    "    CITIZENSHIP,\n",
    "    'Гражданство: Россия, Франция',\n",
    "    'Гражданство: Россия, Франция, Украина',\n",
    ")"
   ]
  },
  {
   "cell_type": "markdown",
   "id": "9dd27d5f",
   "metadata": {},
   "source": [
    "### Наличие разрешения на работу"
   ]
  },
  {
   "cell_type": "code",
   "execution_count": null,
   "id": "90943d71",
   "metadata": {},
   "outputs": [],
   "source": [
    "TITLE = pipeline([\n",
    "    'есть разрешение на работу:'\n",
    "])\n",
    "\n",
    "ITEM = AREA.interpretation(\n",
    "    Intro.permission\n",
    ")\n",
    "\n",
    "LOCATIONS = rule(\n",
    "    ITEM,\n",
    "    rule(\n",
    "        COMMA,\n",
    "        ITEM\n",
    "    ).optional().repeatable()\n",
    ")\n",
    "\n",
    "PERMISSION = rule(\n",
    "    TITLE,\n",
    "    LOCATIONS\n",
    ")\n",
    "\n",
    "\n",
    "show_matches(\n",
    "    PERMISSION,\n",
    "    'есть разрешение на работу: Россия, Франция, Украина',\n",
    "    'есть разрешение на работу: Россия',\n",
    ")\n"
   ]
  },
  {
   "cell_type": "markdown",
   "id": "99e8c83a",
   "metadata": {},
   "source": [
    "### Результаты"
   ]
  },
  {
   "cell_type": "code",
   "execution_count": null,
   "id": "07154aa6",
   "metadata": {},
   "outputs": [],
   "source": [
    "INTRO = rule(\n",
    "    SOCDEM,\n",
    "    LIVES_AT,\n",
    "    CITIZENSHIP, COMMA, PERMISSION\n",
    ").interpretation(\n",
    "    Intro\n",
    ")\n",
    "\n",
    "\n",
    "parser = Parser(INTRO, tokenizer=TOKENIZER)\n",
    "seed(10)\n",
    "for text in sample(intros, 10):\n",
    "    for match in parser.findall(text):\n",
    "        start, stop = match.span\n",
    "        print(text[start:stop])\n",
    "        print()"
   ]
  }
 ],
 "metadata": {
  "kernelspec": {
   "display_name": "Python 3 (ipykernel)",
   "language": "python",
   "name": "python3"
  },
  "language_info": {
   "codemirror_mode": {
    "name": "ipython",
    "version": 3
   },
   "file_extension": ".py",
   "mimetype": "text/x-python",
   "name": "python",
   "nbconvert_exporter": "python",
   "pygments_lexer": "ipython3",
   "version": "3.7.4"
  }
 },
 "nbformat": 4,
 "nbformat_minor": 5
}
