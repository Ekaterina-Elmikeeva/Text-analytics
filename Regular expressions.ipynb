{
 "cells": [
  {
   "cell_type": "markdown",
   "id": "817123be",
   "metadata": {},
   "source": [
    "## 1. Поиск ИНН юрлица\n",
    "* Импорт модуля re, который можно использовать для работы с регулярными выражениями.\n",
    "* **compile()** - компиляция регулярного выражения. На выходе получаем объект, к которому затем можно применять все необходимые  функции. \n",
    "* **search()** - поиск шаблона регулярного выражения. Search(pattern, string), где:\n",
    "    * pattern - регулярное выражение\n",
    "    * string - текст\n"
   ]
  },
  {
   "cell_type": "code",
   "execution_count": 1,
   "id": "a1b7a4e8",
   "metadata": {},
   "outputs": [],
   "source": [
    "import re"
   ]
  },
  {
   "cell_type": "code",
   "execution_count": 2,
   "id": "0633f090",
   "metadata": {},
   "outputs": [],
   "source": [
    "innR = re.compile(r'(?<=инн: )\\d{10}\\b|(?<=инн [–\\-] )\\d{10}\\b|(?<=инн )\\d{10}\\b')"
   ]
  },
  {
   "cell_type": "code",
   "execution_count": 3,
   "id": "8a7b2cb6",
   "metadata": {},
   "outputs": [],
   "source": [
    "corpus = [\n",
    "    '1. Реквизиты компании: ИНН - 1234567890.',\n",
    "    '2. ООО \"Ромашка\", инн: 0987654321.',\n",
    "    '3. Иванов И.И., ИНН 123456789012, тел. +7 9991234567'\n",
    "]"
   ]
  },
  {
   "cell_type": "code",
   "execution_count": 4,
   "id": "6d65ebfa",
   "metadata": {},
   "outputs": [
    {
     "data": {
      "text/plain": [
       "['1234567890', '0987654321', False]"
      ]
     },
     "execution_count": 4,
     "metadata": {},
     "output_type": "execute_result"
    }
   ],
   "source": [
    "inns = []\n",
    "for text in corpus:\n",
    "    inn=re.search(innR, text.lower())\n",
    "    if inn:\n",
    "        inns.append(inn[0])\n",
    "    else:\n",
    "        inns.append(False)\n",
    "        \n",
    "inns"
   ]
  },
  {
   "cell_type": "markdown",
   "id": "8ae39bb5",
   "metadata": {},
   "source": [
    "## 2. Извлечение никнейма пользователя, имени домена и суффикса из данных email адресов.\n",
    "* findall() - извлечение всех вхождений, подходящих под шаблон регулярного выражения. На выходе получаем список.\n",
    "* flags=re.IGNORECASE - шаблон без чувствительности к регистру. \n",
    "* Шаблон:\n",
    "    * **\\w** - один буквенный символ/цифра/нижнее подчеркивание, \\w+ - не менее 1 символа и более\n",
    "    * **[A-Z0-9]** - любой символ алфавита/цифра, [A-Z0-9]+ - не менее 1 символа и более\n",
    "    * **{2,4}** - количество повторений от 2 до 4\n"
   ]
  },
  {
   "cell_type": "code",
   "execution_count": 5,
   "id": "d3a764d2",
   "metadata": {},
   "outputs": [
    {
     "data": {
      "text/plain": [
       "[('zuck26', 'facebook', 'com'),\n",
       " ('page33', 'google', 'com'),\n",
       " ('jeff42', 'amazon', 'com')]"
      ]
     },
     "execution_count": 5,
     "metadata": {},
     "output_type": "execute_result"
    }
   ],
   "source": [
    "emails = \"\"\"zuck26@facebook.com  \n",
    "page33@google.com  \n",
    "jeff42@amazon.com  \n",
    "\"\"\"  \n",
    "\n",
    "pattern = r'(\\w+)@([A-Z0-9]+)\\.([A-Z]{2,4})'  \n",
    "re.findall(pattern, emails, flags=re.IGNORECASE)  "
   ]
  },
  {
   "cell_type": "markdown",
   "id": "be3e4ec5",
   "metadata": {},
   "source": [
    "## 3. Удаление всех символов пунктуации из предложения.\n",
    "* split() - разбиение строк по заданному паттерну. \n",
    "* Шаблон:\n",
    "    * **;,\\s_** - разбиение текста на основании разделителей  **;**   **,**  **пробел**  **_**  . "
   ]
  },
  {
   "cell_type": "code",
   "execution_count": 6,
   "id": "5944fae2",
   "metadata": {},
   "outputs": [
    {
     "data": {
      "text/plain": [
       "'A very very irregular sentence'"
      ]
     },
     "execution_count": 6,
     "metadata": {},
     "output_type": "execute_result"
    }
   ],
   "source": [
    "sentence = \"\"\"A, very very; irregular_sentence\"\"\"  \n",
    "\" \".join(re.split('[;,\\s_]+', sentence))  "
   ]
  },
  {
   "cell_type": "markdown",
   "id": "61e66d78",
   "metadata": {},
   "source": [
    "## 4. Замена американского формата записи даты MM/DD/YYYY на русский DD.MM.YYYY. \n",
    "#### (Без проверки того, что дни могут быть только в диапазоне от 1 до 31, а месяцы от 1 до 12.)\n",
    "* **sub()** - поиск шаблона в строке и замена его на указанную подстроку. При отсутствии шаблона строка не меняется. \n",
    "* **sub(pattern, repl, string)**, где\n",
    "    * pattern - шаблон для поиска строки (регулярное выражение)\n",
    "    * repl - строка, на которую нужно произвести замену\n",
    "    * string - входной текст\n",
    "* Использование групп при заменах. **\\N** - это указание на номер конкретной группы из шаблона pattern, которую нужно подставить. Группы выделяются при помощи ()."
   ]
  },
  {
   "cell_type": "code",
   "execution_count": 7,
   "id": "118ed3ff",
   "metadata": {},
   "outputs": [
    {
     "data": {
      "text/plain": [
       "'Я влюбился в тебя 21.03.2017 23:45 по московскому времени, но встретились мы только 16.05.2021 20:00 спустя 4 года.'"
      ]
     },
     "execution_count": 7,
     "metadata": {},
     "output_type": "execute_result"
    }
   ],
   "source": [
    "text=\"\"\"Я влюбился в тебя 03/21/2017 23:45 по московскому времени, но встретились мы только 05/16/2021 20:00 спустя 4 года.\"\"\"\n",
    "\n",
    "pattern = '([0-9]{2})/([0-9]{2})/([0-9]{4})'\n",
    "repl = r'\\2.\\1.\\3'\n",
    "\n",
    "re.sub(pattern, repl, text)"
   ]
  },
  {
   "cell_type": "markdown",
   "id": "686ced22",
   "metadata": {},
   "source": [
    "### 5*. Дополнительные задания по регулярным выражениям"
   ]
  },
  {
   "cell_type": "code",
   "execution_count": 8,
   "id": "a12f6e29",
   "metadata": {
    "scrolled": true
   },
   "outputs": [],
   "source": [
    "# Вывести любой символ кроме новой строки  \n",
    "text = \"\"\"python.org\n",
    "good\"\"\"\n",
    "\n",
    "\n",
    "#Найти точки в строке или все, кроме точки\n",
    "text = 'python.org'  \n",
    "\n",
    "\n",
    "#Любое число (1 и более цифр подряд) \n",
    "text = '01, Янв 2018'  \n",
    "\n",
    "\n",
    "#Вывести все, кроме цифр\n",
    "text = '01, Янв 2018'  \n",
    "\n",
    "\n",
    "#Любая буква или цифра (1 символ или несколько подряд)\n",
    "text = '01, Янв 2018'  \n",
    "\n",
    "\n",
    "#Все, кроме букв и цифр\n",
    "text = '01, Янв 2018'  \n",
    "\n",
    "\n",
    "#Вывести только буквы\n",
    "text = '01, Янв 2018'  \n",
    "\n",
    "\n",
    "# Найти в заданном тексте номер мобильного телефона\n",
    "text = 'Bangalore office number 1234567891, My number is 8884278690, emergency contact 3456789123 invalid number 898883456'  \n",
    "\n",
    "\n",
    "#Вернуть первое слово из строки\n",
    "text='AV is largest Analytics community of India'\n",
    "\n",
    "\n",
    "#Вернуть первые два символа каждого слова\n",
    "text='AV is largest Analytics community of India'\n",
    "\n",
    "\n",
    "#Извлечь дату из строки\n",
    "text='Amit 34-3456 12-05-2007, XYZ 56-4532 11-11-2011, ABC 67-8945 12-01-2009'\n",
    "\n",
    "\n",
    "#Извлеките все слова, начинающиеся с ‘b’ или ‘B’ из данного текста.\n",
    "text = \"\"\"Betty bought a bit of butter, But the butter was so bitter, So she bought some better butter, To make the bitter butter better.\"\"\"\n",
    "\n",
    "\n",
    "#Извлечь слова, начинающиеся на гласную\n",
    "text='AV is largest Analytics community of India'\n",
    "\n",
    "\n",
    "#Разбить строку по нескольким разделителям и заменить все разделители пробелами\n",
    "text = 'asdf fjdk;afed,fjek,asdf,foo' \n"
   ]
  }
 ],
 "metadata": {
  "kernelspec": {
   "display_name": "Python 3 (ipykernel)",
   "language": "python",
   "name": "python3"
  },
  "language_info": {
   "codemirror_mode": {
    "name": "ipython",
    "version": 3
   },
   "file_extension": ".py",
   "mimetype": "text/x-python",
   "name": "python",
   "nbconvert_exporter": "python",
   "pygments_lexer": "ipython3",
   "version": "3.7.4"
  }
 },
 "nbformat": 4,
 "nbformat_minor": 5
}
