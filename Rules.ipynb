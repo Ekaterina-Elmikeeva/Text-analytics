{
 "cells": [
  {
   "cell_type": "markdown",
   "id": "85f78a27",
   "metadata": {},
   "source": [
    "### Извлечение сущностей с использованием Natasha и Yargy-parser\n",
    "\n",
    "#### Готовые правила\n",
    "Сейчас в Natasha есть правила для извлечения имён, адресов, дат, сумм денег, названий организаций и географических объектов."
   ]
  },
  {
   "cell_type": "markdown",
   "id": "c57aa9ae",
   "metadata": {},
   "source": [
    "#### Имена"
   ]
  },
  {
   "cell_type": "code",
   "execution_count": null,
   "id": "4ce8ce7e",
   "metadata": {},
   "outputs": [],
   "source": [
    "!pip install natasha==0.10.0 yargy==0.11.0"
   ]
  },
  {
   "cell_type": "code",
   "execution_count": null,
   "id": "7864799e",
   "metadata": {},
   "outputs": [],
   "source": [
    "from natasha import NamesExtractor\n",
    "from natasha.markup import show_markup, show_json\n",
    "\n",
    "extractor = NamesExtractor()\n",
    "\n",
    "text = '''\n",
    "Благодарственное письмо   \n",
    "Хочу поблагодарить учителей моего, теперь уже бывшего, одиннадцатиклассника:  Бушуева Вячеслава Владимировича и Бушуеву Веру Константиновну. \n",
    "Они вовлекали сына в интересные внеурочные занятия, связанные с театром и походами.\n",
    "\n",
    "Благодарю прекрасного учителя 1\"А\" класса - Волкову Наталью Николаевну, нашего наставника, тьютора - Ларису Ивановну!\n",
    "За огромнейший труд, чуткое отношение к детям, взаимопонимание! Огромное спасибо!\n",
    "'''\n",
    "\n",
    "matches = extractor(text)\n",
    "spans = [_.span for _ in matches]\n",
    "print('Spans: ',spans)\n",
    "facts = [_.fact.as_json for _ in matches]\n",
    "print('Facts: ',facts)\n",
    "show_markup(text, spans)\n",
    "show_json(facts)\n"
   ]
  },
  {
   "cell_type": "markdown",
   "id": "bc22c1d4",
   "metadata": {},
   "source": [
    "#### Адреса"
   ]
  },
  {
   "cell_type": "code",
   "execution_count": null,
   "id": "f689923f",
   "metadata": {},
   "outputs": [],
   "source": [
    "from natasha import AddressExtractor\n",
    "from natasha.markup import show_markup, show_json\n",
    "\n",
    "extractor = AddressExtractor()\n",
    "\n",
    "text = '''\n",
    "Предлагаю вернуть прежние границы природного парка №71 на Инженерной улице 2.\n",
    "\n",
    "По адресу Алтуфьевское шоссе д.51 (основной вид разрешенного использования: производственная деятельность, склады) размещен МПЗ. Жители требуют незамедлительной остановки МПЗ и его вывода из района\n",
    "\n",
    "Контакты О нас телефон 7 881 574-10-02 Адрес Республика Карелия,г.Петрозаводск,ул.Маршала Мерецкова, д.8 Б,офис 4\n",
    "'''\n",
    "matches = extractor(text)\n",
    "spans = [_.span for _ in matches]\n",
    "facts = [_.fact.as_json for _ in matches]\n",
    "show_markup(text, spans)\n",
    "show_json(facts)"
   ]
  },
  {
   "cell_type": "markdown",
   "id": "a5d577c9",
   "metadata": {},
   "source": [
    "#### Правила для дат и денег"
   ]
  },
  {
   "cell_type": "code",
   "execution_count": null,
   "id": "5ef25982",
   "metadata": {},
   "outputs": [],
   "source": [
    "from natasha import (\n",
    "    NamesExtractor,\n",
    "    AddressExtractor,\n",
    "    DatesExtractor,\n",
    "    MoneyExtractor\n",
    ")\n",
    "from natasha.markup import show_markup, show_json\n",
    "\n",
    "extractors = [\n",
    "    NamesExtractor(),\n",
    "    AddressExtractor(),\n",
    "    DatesExtractor(),\n",
    "    MoneyExtractor()\n",
    "]\n",
    "\n",
    "\n",
    "text = '''\n",
    "Взыскать к индивидуального предпринимателя Иванова Костантипа Петровича дата рождения 10 января 1970 года, проживающего по адресу город Санкт-Петербург, ул. Крузенштерна, дом 5/1А 8 000 (восемь тысяч) рублей 00 копеей госпошлины в пользу бюджета РФ \n",
    "'''\n",
    "spans = []\n",
    "facts = []\n",
    "for extractor in extractors:\n",
    "    matches = extractor(text)\n",
    "    spans.extend(_.span for _ in matches)\n",
    "    facts.extend(_.fact.as_json for _ in matches)\n",
    "show_markup(text, spans)\n",
    "show_json(facts)\n"
   ]
  },
  {
   "cell_type": "markdown",
   "id": "a329e827",
   "metadata": {},
   "source": [
    "#### Создание своих правил"
   ]
  },
  {
   "cell_type": "markdown",
   "id": "af98393a",
   "metadata": {},
   "source": [
    "#### Правило для извлечения дат в ISO-формате («2018-02-23», «2015-12-31»)"
   ]
  },
  {
   "cell_type": "code",
   "execution_count": 1,
   "id": "7df8de00",
   "metadata": {},
   "outputs": [
    {
     "name": "stdout",
     "output_type": "stream",
     "text": [
      "[1, 11) ['2018', '-', '02', '-', '23']\n",
      "[13, 23) ['2015', '-', '12', '-', '31']\n",
      "[31, 40) ['364', '-', '12', '-', '01']\n"
     ]
    }
   ],
   "source": [
    "from yargy import rule, and_, Parser\n",
    "from yargy.predicates import gte, lte\n",
    "\n",
    "\n",
    "DAY = and_(\n",
    "    gte(1),\n",
    "    lte(31)\n",
    ")\n",
    "MONTH = and_(\n",
    "    gte(1),\n",
    "    lte(12)\n",
    ")\n",
    "YEAR = and_(\n",
    "    gte(1),\n",
    "    lte(2022)\n",
    ")\n",
    "DATE = rule(\n",
    "    YEAR,\n",
    "    '-',\n",
    "    MONTH,\n",
    "    '-',\n",
    "    DAY\n",
    ")\n",
    "\n",
    "parser = Parser(DATE)\n",
    "text = '''\n",
    "2018-02-23,\n",
    "2015-12-31;\n",
    "8 916 364-12-01'''\n",
    "for match in parser.findall(text):\n",
    "    print(match.span, [_.value for _ in match.tokens])"
   ]
  },
  {
   "cell_type": "markdown",
   "id": "89a02ee4",
   "metadata": {},
   "source": [
    "#### Корректировка правила"
   ]
  },
  {
   "cell_type": "code",
   "execution_count": 6,
   "id": "e7857679",
   "metadata": {},
   "outputs": [
    {
     "name": "stdout",
     "output_type": "stream",
     "text": [
      "[1, 11) ['2018', '-', '02', '-', '23']\n",
      "[13, 23) ['2015', '-', '12', '-', '31']\n"
     ]
    }
   ],
   "source": [
    "from yargy import rule, and_, Parser\n",
    "from yargy.predicates import gte, lte\n",
    "\n",
    "\n",
    "DAY = and_(\n",
    "    gte(1),\n",
    "    lte(31)\n",
    ")\n",
    "MONTH = and_(\n",
    "    gte(1),\n",
    "    lte(12)\n",
    ")\n",
    "YEAR = and_(\n",
    "    gte(2000),\n",
    "    lte(2022)\n",
    ")\n",
    "DATE = rule(\n",
    "    YEAR,\n",
    "    '-',\n",
    "    MONTH,\n",
    "    '-',\n",
    "    DAY\n",
    ")\n",
    "\n",
    "parser = Parser(DATE)\n",
    "text = '''\n",
    "2018-02-23,\n",
    "2015-12-31;\n",
    "8 916 364-12-01'''\n",
    "for match in parser.findall(text):\n",
    "    print(match.span, [_.value for _ in match.tokens])"
   ]
  },
  {
   "cell_type": "markdown",
   "id": "8cbc786c",
   "metadata": {},
   "source": [
    "#### Правила для дат вида «8 января 2014», «15 июня 2001 г.»"
   ]
  },
  {
   "cell_type": "code",
   "execution_count": 11,
   "id": "dfe9a051",
   "metadata": {},
   "outputs": [
    {
     "name": "stdout",
     "output_type": "stream",
     "text": [
      "[1, 19) ['8', 'января', '2014', 'года']\n",
      "[21, 36) ['15', 'июня', '2001', 'г', '.']\n",
      "[38, 53) ['31', 'февраля', '2018']\n"
     ]
    }
   ],
   "source": [
    "from yargy import or_\n",
    "from yargy.predicates import caseless, normalized, dictionary\n",
    "\n",
    "\n",
    "MONTHS = {\n",
    "    'январь',\n",
    "    'февраль',\n",
    "    'март',\n",
    "    'апрель',\n",
    "    'мая',\n",
    "    'июнь',\n",
    "    'июль',\n",
    "    'август',\n",
    "    'сентябрь',\n",
    "    'октябрь',\n",
    "    'ноябрь',\n",
    "    'декабрь'\n",
    "}\n",
    "MONTH_NAME = dictionary(MONTHS)\n",
    "YEAR_WORDS = or_(\n",
    "    rule(caseless('г'), '.'),\n",
    "    rule(normalized('год'))\n",
    ")\n",
    "DATE = or_(\n",
    "    rule(\n",
    "        YEAR,\n",
    "        '-',\n",
    "        MONTH,\n",
    "        '-',\n",
    "        DAY\n",
    "    ),\n",
    "    rule(\n",
    "        DAY,\n",
    "        MONTH_NAME,\n",
    "        YEAR,\n",
    "        YEAR_WORDS.optional()\n",
    "    )\n",
    ")\n",
    "\n",
    "parser = Parser(DATE)\n",
    "text = '''\n",
    "8 января 2014 года, 15 июня 2001 г.,\n",
    "31 февраля 2018'''\n",
    "for match in parser.findall(text):\n",
    "    print(match.span, [_.value for _ in match.tokens])"
   ]
  },
  {
   "cell_type": "markdown",
   "id": "c78dd936",
   "metadata": {},
   "source": [
    "#### Интерпретация"
   ]
  },
  {
   "cell_type": "code",
   "execution_count": null,
   "id": "231e4b93",
   "metadata": {},
   "outputs": [],
   "source": [
    "from yargy.interpretation import fact\n",
    "\n",
    "\n",
    "Date = fact(\n",
    "    'Date',\n",
    "    ['year', 'month', 'day', 'year_words']\n",
    ")\n",
    "\n",
    "DAY = and_(\n",
    "    gte(1),\n",
    "    lte(31)\n",
    ").interpretation(\n",
    "    Date.day\n",
    ")\n",
    "MONTH = and_(\n",
    "    gte(1),\n",
    "    lte(12)\n",
    ").interpretation(\n",
    "    Date.month\n",
    ")\n",
    "YEAR = and_(\n",
    "    gte(1),\n",
    "    lte(2018)\n",
    ").interpretation(\n",
    "    Date.year\n",
    ")\n",
    "MONTH_NAME = dictionary(\n",
    "    MONTHS\n",
    ").interpretation(\n",
    "    Date.month\n",
    ")\n",
    "YEAR_WORDS = or_(\n",
    "    rule(caseless('г'), '.'),\n",
    "    rule(normalized('год'))\n",
    ").interpretation(\n",
    "    Date.year_words\n",
    ")\n",
    "DATE = or_(\n",
    "    rule(YEAR, '-', MONTH, '-', DAY),\n",
    "    rule(\n",
    "        DAY,\n",
    "        MONTH_NAME,\n",
    "        YEAR,\n",
    "        YEAR_WORDS\n",
    "    )\n",
    ").interpretation(Date)\n",
    "\n",
    "parser = Parser(DATE)\n",
    "text = '''5 февраля 2011 года'''\n",
    "for match in parser.findall(text):\n",
    "    print(match.fact)\n"
   ]
  },
  {
   "cell_type": "code",
   "execution_count": null,
   "id": "b3c92e1b",
   "metadata": {},
   "outputs": [],
   "source": [
    "match = parser.match('2018-12-01')\n",
    "match.tree.as_dot"
   ]
  }
 ],
 "metadata": {
  "kernelspec": {
   "display_name": "Python 3 (ipykernel)",
   "language": "python",
   "name": "python3"
  },
  "language_info": {
   "codemirror_mode": {
    "name": "ipython",
    "version": 3
   },
   "file_extension": ".py",
   "mimetype": "text/x-python",
   "name": "python",
   "nbconvert_exporter": "python",
   "pygments_lexer": "ipython3",
   "version": "3.7.4"
  }
 },
 "nbformat": 4,
 "nbformat_minor": 5
}
