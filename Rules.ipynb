{
 "cells": [
  {
   "cell_type": "markdown",
   "id": "85f78a27",
   "metadata": {},
   "source": [
    "### Классификация текстов при помощи правил"
   ]
  },
  {
   "cell_type": "code",
   "execution_count": 5,
   "id": "6c37478d",
   "metadata": {
    "scrolled": true
   },
   "outputs": [
    {
     "name": "stdout",
     "output_type": "stream",
     "text": [
      "Requirement already satisfied: natasha in c:\\users\\ruseel\\appdata\\local\\continuum\\anaconda3\\lib\\site-packages (1.4.0)\n",
      "Requirement already satisfied: yargy in c:\\users\\ruseel\\appdata\\local\\continuum\\anaconda3\\lib\\site-packages (0.15.0)\n",
      "Requirement already satisfied: ipymarkup>=0.8.0 in c:\\users\\ruseel\\appdata\\local\\continuum\\anaconda3\\lib\\site-packages (from natasha) (0.9.0)\n",
      "Requirement already satisfied: pymorphy2 in c:\\users\\ruseel\\appdata\\local\\continuum\\anaconda3\\lib\\site-packages (from natasha) (0.9.1)\n",
      "Requirement already satisfied: navec>=0.9.0 in c:\\users\\ruseel\\appdata\\local\\continuum\\anaconda3\\lib\\site-packages (from natasha) (0.10.0)\n",
      "Requirement already satisfied: slovnet>=0.3.0 in c:\\users\\ruseel\\appdata\\local\\continuum\\anaconda3\\lib\\site-packages (from natasha) (0.5.0)\n",
      "Requirement already satisfied: razdel>=0.5.0 in c:\\users\\ruseel\\appdata\\local\\continuum\\anaconda3\\lib\\site-packages (from natasha) (0.5.0)\n",
      "Requirement already satisfied: intervaltree>=3 in c:\\users\\ruseel\\appdata\\local\\continuum\\anaconda3\\lib\\site-packages (from ipymarkup>=0.8.0->natasha) (3.1.0)\n",
      "Requirement already satisfied: sortedcontainers<3.0,>=2.0 in c:\\users\\ruseel\\appdata\\local\\continuum\\anaconda3\\lib\\site-packages (from intervaltree>=3->ipymarkup>=0.8.0->natasha) (2.4.0)\n",
      "Requirement already satisfied: numpy in c:\\users\\ruseel\\appdata\\local\\continuum\\anaconda3\\lib\\site-packages (from navec>=0.9.0->natasha) (1.21.5)\n",
      "Requirement already satisfied: docopt>=0.6 in c:\\users\\ruseel\\appdata\\local\\continuum\\anaconda3\\lib\\site-packages (from pymorphy2->natasha) (0.6.2)\n",
      "Requirement already satisfied: dawg-python>=0.7.1 in c:\\users\\ruseel\\appdata\\local\\continuum\\anaconda3\\lib\\site-packages (from pymorphy2->natasha) (0.7.2)\n",
      "Requirement already satisfied: pymorphy2-dicts-ru<3.0,>=2.4 in c:\\users\\ruseel\\appdata\\local\\continuum\\anaconda3\\lib\\site-packages (from pymorphy2->natasha) (2.4.417127.4579844)\n",
      "Note: you may need to restart the kernel to use updated packages.\n"
     ]
    }
   ],
   "source": [
    "pip install yargy"
   ]
  },
  {
   "cell_type": "markdown",
   "id": "af98393a",
   "metadata": {},
   "source": [
    "#### Правило для извлечения дат в ISO-формате («2018-02-23», «2015-12-31»)"
   ]
  },
  {
   "cell_type": "code",
   "execution_count": 1,
   "id": "7df8de00",
   "metadata": {},
   "outputs": [
    {
     "name": "stdout",
     "output_type": "stream",
     "text": [
      "[1, 11) ['2018', '-', '02', '-', '23']\n",
      "[13, 23) ['2015', '-', '12', '-', '31']\n",
      "[31, 40) ['364', '-', '12', '-', '01']\n"
     ]
    }
   ],
   "source": [
    "from yargy import rule, and_, Parser\n",
    "from yargy.predicates import gte, lte\n",
    "\n",
    "\n",
    "DAY = and_(\n",
    "    gte(1),\n",
    "    lte(31)\n",
    ")\n",
    "MONTH = and_(\n",
    "    gte(1),\n",
    "    lte(12)\n",
    ")\n",
    "YEAR = and_(\n",
    "    gte(1),\n",
    "    lte(2022)\n",
    ")\n",
    "DATE = rule(\n",
    "    YEAR,\n",
    "    '-',\n",
    "    MONTH,\n",
    "    '-',\n",
    "    DAY\n",
    ")\n",
    "\n",
    "parser = Parser(DATE)\n",
    "text = '''\n",
    "2018-02-23,\n",
    "2015-12-31;\n",
    "8 916 364-12-01'''\n",
    "for match in parser.findall(text):\n",
    "    print(match.span, [_.value for _ in match.tokens])"
   ]
  },
  {
   "cell_type": "markdown",
   "id": "89a02ee4",
   "metadata": {},
   "source": [
    "#### Корректировка правила"
   ]
  },
  {
   "cell_type": "code",
   "execution_count": 6,
   "id": "e7857679",
   "metadata": {},
   "outputs": [
    {
     "name": "stdout",
     "output_type": "stream",
     "text": [
      "[1, 11) ['2018', '-', '02', '-', '23']\n",
      "[13, 23) ['2015', '-', '12', '-', '31']\n"
     ]
    }
   ],
   "source": [
    "from yargy import rule, and_, Parser\n",
    "from yargy.predicates import gte, lte\n",
    "\n",
    "\n",
    "DAY = and_(\n",
    "    gte(1),\n",
    "    lte(31)\n",
    ")\n",
    "MONTH = and_(\n",
    "    gte(1),\n",
    "    lte(12)\n",
    ")\n",
    "YEAR = and_(\n",
    "    gte(2000),\n",
    "    lte(2022)\n",
    ")\n",
    "DATE = rule(\n",
    "    YEAR,\n",
    "    '-',\n",
    "    MONTH,\n",
    "    '-',\n",
    "    DAY\n",
    ")\n",
    "\n",
    "parser = Parser(DATE)\n",
    "text = '''\n",
    "2018-02-23,\n",
    "2015-12-31;\n",
    "8 916 364-12-01'''\n",
    "for match in parser.findall(text):\n",
    "    print(match.span, [_.value for _ in match.tokens])"
   ]
  },
  {
   "cell_type": "markdown",
   "id": "8cbc786c",
   "metadata": {},
   "source": [
    "#### Правила для дат вида «8 января 2014», «15 июня 2001 г.»"
   ]
  },
  {
   "cell_type": "code",
   "execution_count": 11,
   "id": "dfe9a051",
   "metadata": {},
   "outputs": [
    {
     "name": "stdout",
     "output_type": "stream",
     "text": [
      "[1, 19) ['8', 'января', '2014', 'года']\n",
      "[21, 36) ['15', 'июня', '2001', 'г', '.']\n",
      "[38, 53) ['31', 'февраля', '2018']\n"
     ]
    }
   ],
   "source": [
    "from yargy import or_\n",
    "from yargy.predicates import caseless, normalized, dictionary\n",
    "\n",
    "\n",
    "MONTHS = {\n",
    "    'январь',\n",
    "    'февраль',\n",
    "    'март',\n",
    "    'апрель',\n",
    "    'мая',\n",
    "    'июнь',\n",
    "    'июль',\n",
    "    'август',\n",
    "    'сентябрь',\n",
    "    'октябрь',\n",
    "    'ноябрь',\n",
    "    'декабрь'\n",
    "}\n",
    "MONTH_NAME = dictionary(MONTHS)\n",
    "YEAR_WORDS = or_(\n",
    "    rule(caseless('г'), '.'),\n",
    "    rule(normalized('год'))\n",
    ")\n",
    "DATE = or_(\n",
    "    rule(\n",
    "        YEAR,\n",
    "        '-',\n",
    "        MONTH,\n",
    "        '-',\n",
    "        DAY\n",
    "    ),\n",
    "    rule(\n",
    "        DAY,\n",
    "        MONTH_NAME,\n",
    "        YEAR,\n",
    "        YEAR_WORDS.optional()\n",
    "    )\n",
    ")\n",
    "\n",
    "parser = Parser(DATE)\n",
    "text = '''\n",
    "8 января 2014 года, 15 июня 2001 г.,\n",
    "31 февраля 2018'''\n",
    "for match in parser.findall(text):\n",
    "    print(match.span, [_.value for _ in match.tokens])"
   ]
  }
 ],
 "metadata": {
  "kernelspec": {
   "display_name": "Python 3 (ipykernel)",
   "language": "python",
   "name": "python3"
  },
  "language_info": {
   "codemirror_mode": {
    "name": "ipython",
    "version": 3
   },
   "file_extension": ".py",
   "mimetype": "text/x-python",
   "name": "python",
   "nbconvert_exporter": "python",
   "pygments_lexer": "ipython3",
   "version": "3.7.4"
  }
 },
 "nbformat": 4,
 "nbformat_minor": 5
}
